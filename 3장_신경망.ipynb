{
 "cells": [
  {
   "cell_type": "markdown",
   "metadata": {},
   "source": [
    "# <center>『 밑바닥부터 시작하는 딥러닝 』</center>"
   ]
  },
  {
   "cell_type": "markdown",
   "metadata": {},
   "source": [
    "<img src=\"http://image.kyobobook.co.kr/images/book/large/636/l9788968484636.jpg\">"
   ]
  },
  {
   "cell_type": "markdown",
   "metadata": {},
   "source": [
    "---"
   ]
  },
  {
   "cell_type": "markdown",
   "metadata": {},
   "source": [
    "# 3장. 신경망"
   ]
  },
  {
   "cell_type": "markdown",
   "metadata": {},
   "source": [
    "---"
   ]
  },
  {
   "cell_type": "markdown",
   "metadata": {
    "toc": true
   },
   "source": [
    "<h1>Table of Contents<span class=\"tocSkip\"></span></h1>\n",
    "<div class=\"toc\"><ul class=\"toc-item\"><li><span><a href=\"#퍼셉트론에서-신경망으로\" data-toc-modified-id=\"퍼셉트론에서-신경망으로-1\"><span class=\"toc-item-num\">1&nbsp;&nbsp;</span>퍼셉트론에서 신경망으로</a></span><ul class=\"toc-item\"><li><span><a href=\"#신경망의-예\" data-toc-modified-id=\"신경망의-예-1.1\"><span class=\"toc-item-num\">1.1&nbsp;&nbsp;</span>신경망의 예</a></span></li><li><span><a href=\"#퍼셉트론-복습\" data-toc-modified-id=\"퍼셉트론-복습-1.2\"><span class=\"toc-item-num\">1.2&nbsp;&nbsp;</span>퍼셉트론 복습</a></span></li><li><span><a href=\"#활성화-함수의-등장\" data-toc-modified-id=\"활성화-함수의-등장-1.3\"><span class=\"toc-item-num\">1.3&nbsp;&nbsp;</span>활성화 함수의 등장</a></span></li></ul></li><li><span><a href=\"#활성화-함수\" data-toc-modified-id=\"활성화-함수-2\"><span class=\"toc-item-num\">2&nbsp;&nbsp;</span>활성화 함수</a></span><ul class=\"toc-item\"><li><span><a href=\"#시그모이드-함수\" data-toc-modified-id=\"시그모이드-함수-2.1\"><span class=\"toc-item-num\">2.1&nbsp;&nbsp;</span>시그모이드 함수</a></span></li><li><span><a href=\"#계단-함수-구현하기\" data-toc-modified-id=\"계단-함수-구현하기-2.2\"><span class=\"toc-item-num\">2.2&nbsp;&nbsp;</span>계단 함수 구현하기</a></span></li><li><span><a href=\"#계단-함수의-그래프\" data-toc-modified-id=\"계단-함수의-그래프-2.3\"><span class=\"toc-item-num\">2.3&nbsp;&nbsp;</span>계단 함수의 그래프</a></span></li><li><span><a href=\"#시그모이드-함수-구현하기\" data-toc-modified-id=\"시그모이드-함수-구현하기-2.4\"><span class=\"toc-item-num\">2.4&nbsp;&nbsp;</span>시그모이드 함수 구현하기</a></span></li><li><span><a href=\"#시그모이드-함수와-계단-함수-비교\" data-toc-modified-id=\"시그모이드-함수와-계단-함수-비교-2.5\"><span class=\"toc-item-num\">2.5&nbsp;&nbsp;</span>시그모이드 함수와 계단 함수 비교</a></span></li><li><span><a href=\"#비선형-함수\" data-toc-modified-id=\"비선형-함수-2.6\"><span class=\"toc-item-num\">2.6&nbsp;&nbsp;</span>비선형 함수</a></span></li><li><span><a href=\"#Relu-함수\" data-toc-modified-id=\"Relu-함수-2.7\"><span class=\"toc-item-num\">2.7&nbsp;&nbsp;</span>Relu 함수</a></span></li></ul></li><li><span><a href=\"#다차원-배열의-연산\" data-toc-modified-id=\"다차원-배열의-연산-3\"><span class=\"toc-item-num\">3&nbsp;&nbsp;</span>다차원 배열의 연산</a></span><ul class=\"toc-item\"><li><span><a href=\"#다차원-배열\" data-toc-modified-id=\"다차원-배열-3.1\"><span class=\"toc-item-num\">3.1&nbsp;&nbsp;</span>다차원 배열</a></span></li><li><span><a href=\"#행렬의-곱\" data-toc-modified-id=\"행렬의-곱-3.2\"><span class=\"toc-item-num\">3.2&nbsp;&nbsp;</span>행렬의 곱</a></span></li><li><span><a href=\"#신경망에서의-행렬-곱\" data-toc-modified-id=\"신경망에서의-행렬-곱-3.3\"><span class=\"toc-item-num\">3.3&nbsp;&nbsp;</span>신경망에서의 행렬 곱</a></span></li></ul></li><li><span><a href=\"#3층-신경망-구현하기\" data-toc-modified-id=\"3층-신경망-구현하기-4\"><span class=\"toc-item-num\">4&nbsp;&nbsp;</span>3층 신경망 구현하기</a></span><ul class=\"toc-item\"><li><span><a href=\"#표기법-설명\" data-toc-modified-id=\"표기법-설명-4.1\"><span class=\"toc-item-num\">4.1&nbsp;&nbsp;</span>표기법 설명</a></span></li><li><span><a href=\"#각-층의-신호-전달-구현하기\" data-toc-modified-id=\"각-층의-신호-전달-구현하기-4.2\"><span class=\"toc-item-num\">4.2&nbsp;&nbsp;</span>각 층의 신호 전달 구현하기</a></span></li><li><span><a href=\"#구현-정리\" data-toc-modified-id=\"구현-정리-4.3\"><span class=\"toc-item-num\">4.3&nbsp;&nbsp;</span>구현 정리</a></span></li></ul></li><li><span><a href=\"#출력층-설계하기\" data-toc-modified-id=\"출력층-설계하기-5\"><span class=\"toc-item-num\">5&nbsp;&nbsp;</span>출력층 설계하기</a></span><ul class=\"toc-item\"><li><span><a href=\"#항등-함수와-소프트맥스-함수-구현하기\" data-toc-modified-id=\"항등-함수와-소프트맥스-함수-구현하기-5.1\"><span class=\"toc-item-num\">5.1&nbsp;&nbsp;</span>항등 함수와 소프트맥스 함수 구현하기</a></span></li><li><span><a href=\"#소프트맥스-함수-구현-시-주의점\" data-toc-modified-id=\"소프트맥스-함수-구현-시-주의점-5.2\"><span class=\"toc-item-num\">5.2&nbsp;&nbsp;</span>소프트맥스 함수 구현 시 주의점</a></span></li><li><span><a href=\"#소프트맥스-함수의-특징\" data-toc-modified-id=\"소프트맥스-함수의-특징-5.3\"><span class=\"toc-item-num\">5.3&nbsp;&nbsp;</span>소프트맥스 함수의 특징</a></span></li><li><span><a href=\"#출력층의-뉴런-수-정하기\" data-toc-modified-id=\"출력층의-뉴런-수-정하기-5.4\"><span class=\"toc-item-num\">5.4&nbsp;&nbsp;</span>출력층의 뉴런 수 정하기</a></span></li></ul></li><li><span><a href=\"#손글씨-숫자-인식\" data-toc-modified-id=\"손글씨-숫자-인식-6\"><span class=\"toc-item-num\">6&nbsp;&nbsp;</span>손글씨 숫자 인식</a></span><ul class=\"toc-item\"><li><span><a href=\"#MNIST-데이터셋\" data-toc-modified-id=\"MNIST-데이터셋-6.1\"><span class=\"toc-item-num\">6.1&nbsp;&nbsp;</span>MNIST 데이터셋</a></span></li><li><span><a href=\"#신경망의-추론-처리\" data-toc-modified-id=\"신경망의-추론-처리-6.2\"><span class=\"toc-item-num\">6.2&nbsp;&nbsp;</span>신경망의 추론 처리</a></span></li><li><span><a href=\"#배치-처리\" data-toc-modified-id=\"배치-처리-6.3\"><span class=\"toc-item-num\">6.3&nbsp;&nbsp;</span>배치 처리</a></span></li></ul></li></ul></div>"
   ]
  },
  {
   "cell_type": "markdown",
   "metadata": {},
   "source": [
    "--- "
   ]
  },
  {
   "cell_type": "markdown",
   "metadata": {},
   "source": [
    "2장에서 공부한 퍼셉트론의 가중치를 설정하는 작업은 여전히 사람이 수동으로 한다는 문제가 있습니다.  \n",
    "**신경망**이 이 문제를 해결해줍니다. 가중치 매개변수의 적절한 값을 데이터로부터 자동으로 학습하는 능력이 신경망의 중요한 성질입니다."
   ]
  },
  {
   "cell_type": "markdown",
   "metadata": {},
   "source": [
    "## 퍼셉트론에서 신경망으로"
   ]
  },
  {
   "cell_type": "markdown",
   "metadata": {},
   "source": [
    "### 신경망의 예"
   ]
  },
  {
   "cell_type": "markdown",
   "metadata": {},
   "source": [
    "신경망을 그림으로 나타내면 다음과 같습니다. 여기에서 가장 왼쪽 줄을 **입력층**, 맨 오른쪽 줄을 **출력층**, 중간 중을 **은닉층**이라고 합니다. 입력층에서 출력층 방향으로 차례로 0층, 1층, 2층 이라고 하며 가중치를 갖는 층의 개수를 기준으로 2층 신경망이라고 하겠습니다."
   ]
  },
  {
   "cell_type": "markdown",
   "metadata": {},
   "source": [
    "<img src=\"https://media.vlpt.us/post-images/dscwinterstudy/82dcf020-38f2-11ea-98c4-63cdb84222e2/%EC%8B%A0%EA%B2%BD%EB%A7%9D.png\" width=40%>"
   ]
  },
  {
   "cell_type": "markdown",
   "metadata": {},
   "source": [
    "### 퍼셉트론 복습"
   ]
  },
  {
   "cell_type": "markdown",
   "metadata": {},
   "source": [
    "편향을 명시한 퍼셉트론은 다음과 같습니다. 편향의 입력 신호는 항상 1이기 때문에 그림에서는 해당 뉴런을 회색으로 채워 다른 뉴런과 구별했습니다."
   ]
  },
  {
   "cell_type": "markdown",
   "metadata": {},
   "source": [
    "<img src=\"https://lh3.googleusercontent.com/proxy/onGv40iAtMxwN62Q03B8Z_pxZwFVHhjFuB3sdKNk0WwTNgHrekaY69vqKuLJCie3kKfDpWGkdyLDNabxqsEr5TuGR6xUbg7lBOkMKeXm0gtZxBxtKdBCMHajREgabcVsHrZcOxbQpmvk40qEUHg1HyjvBw2F50VV2k6-rvRps400S6XC16ZioWiOmvS1lcTEPXpcgpAIBoS2WRvMaKvEExARZx2qUu_861NIVOy-mJOsBdcfzvvFoJkYgPNGTKLBWKnjACPdb2II0wxYDOmcuXe5VVRs_g\" width=30%>"
   ]
  },
  {
   "cell_type": "markdown",
   "metadata": {},
   "source": [
    "### 활성화 함수의 등장"
   ]
  },
  {
   "cell_type": "markdown",
   "metadata": {},
   "source": [
    "**활성화 함수(activation function)**는 입력 신호의 총합을 출력 신호로 변환하는 함수입니다.  \n",
    "- a: 가중치가 달린 입력 신호와 편향의 총합  \n",
    "- h(x): 활성화 함수 (여기에 a를 넣어 y를 출력)  "
   ]
  },
  {
   "cell_type": "markdown",
   "metadata": {},
   "source": [
    "<img src=\"https://media.vlpt.us/post-images/dscwinterstudy/d1593000-38e9-11ea-b942-cb9b82d31200/%ED%99%9C%EC%84%B1%ED%99%94-%ED%95%A8%EC%88%98%EC%9D%98-%EC%B2%98%EB%A6%AC-%EA%B3%BC%EC%A0%95.PNG\">"
   ]
  },
  {
   "cell_type": "markdown",
   "metadata": {},
   "source": [
    "## 활성화 함수"
   ]
  },
  {
   "cell_type": "markdown",
   "metadata": {},
   "source": [
    "활성화 함수는 임계값을 경계로 출력이 바뀌며, 이런 함수를 **계단 함수(step function)**라 합니다. 활성화 함수로 쓸 수 있는 여러 후보 중에서 퍼셉트론은 계단 함수를 채용하고 있습니다. 활성화 함수를 계단 함수에서 다른 함수로 변경하는 것이 신경망의 세계로 나아가는 열쇠입니다."
   ]
  },
  {
   "cell_type": "markdown",
   "metadata": {},
   "source": [
    "### 시그모이드 함수"
   ]
  },
  {
   "cell_type": "markdown",
   "metadata": {},
   "source": [
    "다음은 신경망에서 자주 이용하는 활성화 함수인 **시그모이드 함수(activation function)**입니다. 사실 앞 장에서 본 퍼셉트론과 앞으로 볼 신경망의 주된 차이는 이 활성화 함수뿐입니다."
   ]
  },
  {
   "cell_type": "markdown",
   "metadata": {},
   "source": [
    "<img src=\"https://media.vlpt.us/post-images/dscwinterstudy/a905ddd0-3829-11ea-8217-2f54dec14d43/%EC%8B%9C%EA%B7%B8%EB%AA%A8%EC%9D%B4%EB%93%9C%ED%95%A8%EC%88%98.PNG\" >"
   ]
  },
  {
   "cell_type": "markdown",
   "metadata": {},
   "source": [
    "### 계단 함수 구현하기"
   ]
  },
  {
   "cell_type": "code",
   "execution_count": 1,
   "metadata": {
    "ExecuteTime": {
     "end_time": "2021-01-20T07:37:08.168170Z",
     "start_time": "2021-01-20T07:37:08.162186Z"
    }
   },
   "outputs": [],
   "source": [
    "def step_function(x):\n",
    "    if x > 0:\n",
    "        return 1\n",
    "    else:\n",
    "        return 0"
   ]
  },
  {
   "cell_type": "markdown",
   "metadata": {},
   "source": [
    "배열 x의 원소 각각이 0보다 크면 True로, 0 이하면 False로 변환한 새로운 배열 y가 생성됩니다."
   ]
  },
  {
   "cell_type": "code",
   "execution_count": 2,
   "metadata": {
    "ExecuteTime": {
     "end_time": "2021-01-20T07:37:08.183132Z",
     "start_time": "2021-01-20T07:37:08.172159Z"
    }
   },
   "outputs": [],
   "source": [
    "def step_function(x):\n",
    "    y = x > 0\n",
    "    return y.astype(np.int)"
   ]
  },
  {
   "cell_type": "code",
   "execution_count": 3,
   "metadata": {
    "ExecuteTime": {
     "end_time": "2021-01-20T07:37:08.476346Z",
     "start_time": "2021-01-20T07:37:08.186124Z"
    }
   },
   "outputs": [
    {
     "data": {
      "text/plain": [
       "array([-1.,  1.,  2.])"
      ]
     },
     "execution_count": 3,
     "metadata": {},
     "output_type": "execute_result"
    }
   ],
   "source": [
    "import numpy as np\n",
    "x = np.array([-1.0, 1.0, 2.0])\n",
    "x"
   ]
  },
  {
   "cell_type": "code",
   "execution_count": 4,
   "metadata": {
    "ExecuteTime": {
     "end_time": "2021-01-20T07:37:08.486319Z",
     "start_time": "2021-01-20T07:37:08.479338Z"
    }
   },
   "outputs": [
    {
     "data": {
      "text/plain": [
       "array([False,  True,  True])"
      ]
     },
     "execution_count": 4,
     "metadata": {},
     "output_type": "execute_result"
    }
   ],
   "source": [
    "y = x > 0\n",
    "y"
   ]
  },
  {
   "cell_type": "code",
   "execution_count": 5,
   "metadata": {
    "ExecuteTime": {
     "end_time": "2021-01-20T07:37:08.504271Z",
     "start_time": "2021-01-20T07:37:08.496293Z"
    }
   },
   "outputs": [
    {
     "data": {
      "text/plain": [
       "array([0, 1, 1])"
      ]
     },
     "execution_count": 5,
     "metadata": {},
     "output_type": "execute_result"
    }
   ],
   "source": [
    "y = y.astype(np.int)\n",
    "y"
   ]
  },
  {
   "cell_type": "markdown",
   "metadata": {},
   "source": [
    "### 계단 함수의 그래프"
   ]
  },
  {
   "cell_type": "markdown",
   "metadata": {},
   "source": [
    "아래 그래프와 같이 값이 바뀌는 형태가 계단처럼 생겼기 때문에 계단 함수라고 불립니다."
   ]
  },
  {
   "cell_type": "code",
   "execution_count": 6,
   "metadata": {
    "ExecuteTime": {
     "end_time": "2021-01-20T07:37:09.215454Z",
     "start_time": "2021-01-20T07:37:08.506267Z"
    }
   },
   "outputs": [
    {
     "data": {
      "image/png": "[encoded data removed]",
      "text/plain": [
       "<Figure size 432x288 with 1 Axes>"
      ]
     },
     "metadata": {
      "needs_background": "light"
     },
     "output_type": "display_data"
    }
   ],
   "source": [
    "import numpy as np\n",
    "import matplotlib.pylab as plt\n",
    "\n",
    "\n",
    "def step_function(x):\n",
    "    return np.array(x > 0, dtype=np.int)\n",
    "\n",
    "X = np.arange(-5.0, 5.0, 0.1)\n",
    "Y = step_function(X)\n",
    "plt.plot(X, Y)\n",
    "plt.ylim(-0.1, 1.1)  # y축의 범위 지정\n",
    "plt.show()"
   ]
  },
  {
   "cell_type": "markdown",
   "metadata": {},
   "source": [
    "### 시그모이드 함수 구현하기"
   ]
  },
  {
   "cell_type": "code",
   "execution_count": 7,
   "metadata": {
    "ExecuteTime": {
     "end_time": "2021-01-20T07:37:09.230413Z",
     "start_time": "2021-01-20T07:37:09.221438Z"
    }
   },
   "outputs": [],
   "source": [
    "def sigmoid(x):\n",
    "    return 1 / (1 + np.exp(-x))"
   ]
  },
  {
   "cell_type": "code",
   "execution_count": 8,
   "metadata": {
    "ExecuteTime": {
     "end_time": "2021-01-20T07:37:09.253352Z",
     "start_time": "2021-01-20T07:37:09.235400Z"
    }
   },
   "outputs": [
    {
     "data": {
      "text/plain": [
       "array([0.26894142, 0.73105858, 0.88079708])"
      ]
     },
     "execution_count": 8,
     "metadata": {},
     "output_type": "execute_result"
    }
   ],
   "source": [
    "x = np.array([-1.0, 1.0, 2.0])\n",
    "sigmoid(x)"
   ]
  },
  {
   "cell_type": "code",
   "execution_count": 9,
   "metadata": {
    "ExecuteTime": {
     "end_time": "2021-01-20T07:37:09.528618Z",
     "start_time": "2021-01-20T07:37:09.261331Z"
    }
   },
   "outputs": [
    {
     "data": {
      "image/png": "[encoded data removed]",
      "text/plain": [
       "<Figure size 432x288 with 1 Axes>"
      ]
     },
     "metadata": {
      "needs_background": "light"
     },
     "output_type": "display_data"
    }
   ],
   "source": [
    "import numpy as np\n",
    "import matplotlib.pylab as plt\n",
    "\n",
    "\n",
    "def sigmoid(x):\n",
    "    return 1 / (1 + np.exp(-x))    \n",
    "\n",
    "X = np.arange(-5.0, 5.0, 0.1)\n",
    "Y = sigmoid(X)\n",
    "plt.plot(X, Y)\n",
    "plt.ylim(-0.1, 1.1)\n",
    "plt.show()"
   ]
  },
  {
   "cell_type": "markdown",
   "metadata": {},
   "source": [
    "### 시그모이드 함수와 계단 함수 비교"
   ]
  },
  {
   "cell_type": "markdown",
   "metadata": {},
   "source": [
    "시그모이드 함수와 계단 함수를 비교한 결과입니다.  \n",
    "두 함수의 가장 큰 차이는 '매끄러움'입니다. 시그모이드 함수는 부드러운 곡선이며 입력에 따라 출력이 연속적으로 변환합니다. 시그모이드 함수의 이 매끈함이 신경망 학습에서 아주 중요한 역할을 하게 됩니다. 퍼셉트론에서는 뉴런 사이에 0 혹은 1이 흘렀다면, 신경망에서는 연속적인 실수가 흐릅니다."
   ]
  },
  {
   "cell_type": "code",
   "execution_count": 10,
   "metadata": {
    "ExecuteTime": {
     "end_time": "2021-01-20T07:37:09.720105Z",
     "start_time": "2021-01-20T07:37:09.532605Z"
    }
   },
   "outputs": [
    {
     "data": {
      "image/png": "[encoded data removed]",
      "text/plain": [
       "<Figure size 432x288 with 1 Axes>"
      ]
     },
     "metadata": {
      "needs_background": "light"
     },
     "output_type": "display_data"
    }
   ],
   "source": [
    "import numpy as np\n",
    "import matplotlib.pylab as plt\n",
    "\n",
    "\n",
    "def sigmoid(x):\n",
    "    return 1 / (1 + np.exp(-x))    \n",
    "\n",
    "\n",
    "def step_function(x):\n",
    "    return np.array(x > 0, dtype=np.int)\n",
    "\n",
    "x = np.arange(-5.0, 5.0, 0.1)\n",
    "y1 = sigmoid(x)\n",
    "y2 = step_function(x)\n",
    "\n",
    "plt.plot(x, y1)\n",
    "plt.plot(x, y2, 'k--')\n",
    "plt.ylim(-0.1, 1.1) # y축 범위 지정\n",
    "plt.show()"
   ]
  },
  {
   "cell_type": "markdown",
   "metadata": {},
   "source": [
    "### 비선형 함수"
   ]
  },
  {
   "cell_type": "markdown",
   "metadata": {},
   "source": [
    "시그모이드 함수와 계단 함수는 모두 **비선형 함수**입니다.  \n",
    "신경망에서는 활성화 함수로 비선형 함수를 사용해야 합니다. 선형 함수를 이용하면 신경망의 층을 깊게 하는 의미가 없어지기 때문입니다. h(x) = cx를 활성화 함수로 사용한 3층 네트워크가 있을 때, 이를 식으로 나타내면 y(x) = h(h(h(x)))가 됩니다. 이 계산은 y(x) = c * c * c * x 처럼 곱셈을 세 번 수행하지만, 실은 y(x) = ax와 똑같은 식입니다."
   ]
  },
  {
   "cell_type": "markdown",
   "metadata": {},
   "source": [
    "### Relu 함수"
   ]
  },
  {
   "cell_type": "markdown",
   "metadata": {},
   "source": [
    "지금까지 활성화 함수로 계단 함수와 시그모이드 함수를 소개했습니다. 시그모이드 함수는 신경망 분야에서 오래전부터 이용해왔으나, 최근에는 **ReLU(Rectified Linear Unit) 함수**를 주로 이용합니다. ReLU는 입력이 0을 넘으면 그 입력을 그대로 출력하고, 0 이하이면 0을 출력하는 함수입니다."
   ]
  },
  {
   "cell_type": "code",
   "execution_count": 11,
   "metadata": {
    "ExecuteTime": {
     "end_time": "2021-01-20T07:37:09.889651Z",
     "start_time": "2021-01-20T07:37:09.722099Z"
    }
   },
   "outputs": [
    {
     "data": {
      "image/png": "[encoded data removed]",
      "text/plain": [
       "<Figure size 432x288 with 1 Axes>"
      ]
     },
     "metadata": {
      "needs_background": "light"
     },
     "output_type": "display_data"
    }
   ],
   "source": [
    "import numpy as np\n",
    "import matplotlib.pylab as plt\n",
    "\n",
    "\n",
    "def relu(x):\n",
    "    return np.maximum(0, x)\n",
    "\n",
    "x = np.arange(-5.0, 5.0, 0.1)\n",
    "y = relu(x)\n",
    "plt.plot(x, y)\n",
    "plt.ylim(-1.0, 5.5)\n",
    "plt.show()"
   ]
  },
  {
   "cell_type": "markdown",
   "metadata": {},
   "source": [
    "## 다차원 배열의 연산"
   ]
  },
  {
   "cell_type": "markdown",
   "metadata": {},
   "source": [
    "### 다차원 배열"
   ]
  },
  {
   "cell_type": "code",
   "execution_count": 12,
   "metadata": {
    "ExecuteTime": {
     "end_time": "2021-01-20T07:37:09.907640Z",
     "start_time": "2021-01-20T07:37:09.893642Z"
    }
   },
   "outputs": [
    {
     "name": "stdout",
     "output_type": "stream",
     "text": [
      "[1 2 3 4]\n"
     ]
    }
   ],
   "source": [
    "import numpy as np\n",
    "A = np.array([1, 2, 3, 4])\n",
    "print(A)"
   ]
  },
  {
   "cell_type": "code",
   "execution_count": 13,
   "metadata": {
    "ExecuteTime": {
     "end_time": "2021-01-20T07:37:09.920570Z",
     "start_time": "2021-01-20T07:37:09.909597Z"
    }
   },
   "outputs": [
    {
     "data": {
      "text/plain": [
       "1"
      ]
     },
     "execution_count": 13,
     "metadata": {},
     "output_type": "execute_result"
    }
   ],
   "source": [
    "np.ndim(A)"
   ]
  },
  {
   "cell_type": "code",
   "execution_count": 14,
   "metadata": {
    "ExecuteTime": {
     "end_time": "2021-01-20T07:37:09.935528Z",
     "start_time": "2021-01-20T07:37:09.926553Z"
    }
   },
   "outputs": [
    {
     "data": {
      "text/plain": [
       "(4,)"
      ]
     },
     "execution_count": 14,
     "metadata": {},
     "output_type": "execute_result"
    }
   ],
   "source": [
    "A.shape"
   ]
  },
  {
   "cell_type": "code",
   "execution_count": 15,
   "metadata": {
    "ExecuteTime": {
     "end_time": "2021-01-20T07:37:09.946499Z",
     "start_time": "2021-01-20T07:37:09.938521Z"
    }
   },
   "outputs": [
    {
     "data": {
      "text/plain": [
       "4"
      ]
     },
     "execution_count": 15,
     "metadata": {},
     "output_type": "execute_result"
    }
   ],
   "source": [
    "A.shape[0]"
   ]
  },
  {
   "cell_type": "code",
   "execution_count": 16,
   "metadata": {
    "ExecuteTime": {
     "end_time": "2021-01-20T07:37:09.958466Z",
     "start_time": "2021-01-20T07:37:09.950489Z"
    }
   },
   "outputs": [
    {
     "name": "stdout",
     "output_type": "stream",
     "text": [
      "[[1 2]\n",
      " [3 4]\n",
      " [5 6]]\n"
     ]
    }
   ],
   "source": [
    "B = np.array([[1, 2], [3, 4], [5, 6]])\n",
    "print(B)"
   ]
  },
  {
   "cell_type": "code",
   "execution_count": 17,
   "metadata": {
    "ExecuteTime": {
     "end_time": "2021-01-20T07:37:09.969437Z",
     "start_time": "2021-01-20T07:37:09.961459Z"
    }
   },
   "outputs": [
    {
     "data": {
      "text/plain": [
       "2"
      ]
     },
     "execution_count": 17,
     "metadata": {},
     "output_type": "execute_result"
    }
   ],
   "source": [
    "np.ndim(B)"
   ]
  },
  {
   "cell_type": "code",
   "execution_count": 18,
   "metadata": {
    "ExecuteTime": {
     "end_time": "2021-01-20T07:37:09.979420Z",
     "start_time": "2021-01-20T07:37:09.972429Z"
    }
   },
   "outputs": [
    {
     "data": {
      "text/plain": [
       "(3, 2)"
      ]
     },
     "execution_count": 18,
     "metadata": {},
     "output_type": "execute_result"
    }
   ],
   "source": [
    "B.shape"
   ]
  },
  {
   "cell_type": "markdown",
   "metadata": {},
   "source": [
    "### 행렬의 곱"
   ]
  },
  {
   "cell_type": "code",
   "execution_count": 19,
   "metadata": {
    "ExecuteTime": {
     "end_time": "2021-01-20T07:37:09.994370Z",
     "start_time": "2021-01-20T07:37:09.983401Z"
    }
   },
   "outputs": [
    {
     "data": {
      "text/plain": [
       "(2, 2)"
      ]
     },
     "execution_count": 19,
     "metadata": {},
     "output_type": "execute_result"
    }
   ],
   "source": [
    "A = np.array([[1, 2], [3, 4]])\n",
    "A.shape"
   ]
  },
  {
   "cell_type": "code",
   "execution_count": 20,
   "metadata": {
    "ExecuteTime": {
     "end_time": "2021-01-20T07:37:10.012325Z",
     "start_time": "2021-01-20T07:37:09.997362Z"
    }
   },
   "outputs": [
    {
     "data": {
      "text/plain": [
       "(2, 2)"
      ]
     },
     "execution_count": 20,
     "metadata": {},
     "output_type": "execute_result"
    }
   ],
   "source": [
    "A.shape"
   ]
  },
  {
   "cell_type": "code",
   "execution_count": 21,
   "metadata": {
    "ExecuteTime": {
     "end_time": "2021-01-20T07:37:10.026285Z",
     "start_time": "2021-01-20T07:37:10.017308Z"
    }
   },
   "outputs": [
    {
     "data": {
      "text/plain": [
       "(2, 2)"
      ]
     },
     "execution_count": 21,
     "metadata": {},
     "output_type": "execute_result"
    }
   ],
   "source": [
    "B = np.array([[5, 6], [7, 8]])\n",
    "B.shape"
   ]
  },
  {
   "cell_type": "code",
   "execution_count": 22,
   "metadata": {
    "ExecuteTime": {
     "end_time": "2021-01-20T07:37:10.045752Z",
     "start_time": "2021-01-20T07:37:10.028280Z"
    }
   },
   "outputs": [
    {
     "data": {
      "text/plain": [
       "array([[19, 22],\n",
       "       [43, 50]])"
      ]
     },
     "execution_count": 22,
     "metadata": {},
     "output_type": "execute_result"
    }
   ],
   "source": [
    "np.dot(A, B)"
   ]
  },
  {
   "cell_type": "markdown",
   "metadata": {},
   "source": [
    "### 신경망에서의 행렬 곱"
   ]
  },
  {
   "cell_type": "code",
   "execution_count": 23,
   "metadata": {
    "ExecuteTime": {
     "end_time": "2021-01-20T07:37:10.059717Z",
     "start_time": "2021-01-20T07:37:10.051737Z"
    }
   },
   "outputs": [
    {
     "data": {
      "text/plain": [
       "(2,)"
      ]
     },
     "execution_count": 23,
     "metadata": {},
     "output_type": "execute_result"
    }
   ],
   "source": [
    "X = np.array([1, 2])\n",
    "X.shape"
   ]
  },
  {
   "cell_type": "code",
   "execution_count": 24,
   "metadata": {
    "ExecuteTime": {
     "end_time": "2021-01-20T07:37:10.076680Z",
     "start_time": "2021-01-20T07:37:10.071683Z"
    }
   },
   "outputs": [
    {
     "name": "stdout",
     "output_type": "stream",
     "text": [
      "[[1 3 5]\n",
      " [2 4 6]]\n"
     ]
    }
   ],
   "source": [
    "W = np.array([[1, 3, 5], [2, 4, 6]])\n",
    "print(W)"
   ]
  },
  {
   "cell_type": "code",
   "execution_count": 25,
   "metadata": {
    "ExecuteTime": {
     "end_time": "2021-01-20T07:37:10.090632Z",
     "start_time": "2021-01-20T07:37:10.083651Z"
    }
   },
   "outputs": [
    {
     "data": {
      "text/plain": [
       "(2, 3)"
      ]
     },
     "execution_count": 25,
     "metadata": {},
     "output_type": "execute_result"
    }
   ],
   "source": [
    "W.shape"
   ]
  },
  {
   "cell_type": "code",
   "execution_count": 26,
   "metadata": {
    "ExecuteTime": {
     "end_time": "2021-01-20T07:37:10.109582Z",
     "start_time": "2021-01-20T07:37:10.097615Z"
    }
   },
   "outputs": [
    {
     "name": "stdout",
     "output_type": "stream",
     "text": [
      "[ 5 11 17]\n"
     ]
    }
   ],
   "source": [
    "Y = np.dot(X, W)\n",
    "print(Y)"
   ]
  },
  {
   "cell_type": "markdown",
   "metadata": {},
   "source": [
    "## 3층 신경망 구현하기"
   ]
  },
  {
   "cell_type": "markdown",
   "metadata": {},
   "source": [
    "다음은 1개의 입력층, 2개의 은닉층, 1개의 출력층으로 이루어진 3층 신경망입니다. 각 층은 순서대로 2개, 3개, 2개, 2개의 뉴런으로 구성됩니다.\n",
    "\n",
    "<img src=\"https://img1.daumcdn.net/thumb/R800x0/?scode=mtistory2&fname=https%3A%2F%2Ft1.daumcdn.net%2Fcfile%2Ftistory%2F99651A475A6926431F\" width=50%>"
   ]
  },
  {
   "cell_type": "markdown",
   "metadata": {},
   "source": [
    "### 표기법 설명"
   ]
  },
  {
   "cell_type": "markdown",
   "metadata": {},
   "source": [
    "<img src=\"https://media.vlpt.us/post-images/dscwinterstudy/f88732c0-38fe-11ea-b428-5dc446614305/%EA%B0%80%EC%A4%91%EC%B9%98%ED%91%9C%EA%B8%B0.png\">"
   ]
  },
  {
   "cell_type": "markdown",
   "metadata": {},
   "source": [
    "### 각 층의 신호 전달 구현하기"
   ]
  },
  {
   "cell_type": "markdown",
   "metadata": {},
   "source": [
    "입력층에서 1층의 첫 번째 뉴런으로 가는 신호를 살펴보겠습니다."
   ]
  },
  {
   "cell_type": "markdown",
   "metadata": {},
   "source": [
    "<img src=\"https://media.vlpt.us/post-images/dscwinterstudy/4f6a4300-39fb-11ea-b6b9-5148bcc9f2c4/%EC%9E%85%EB%A0%A5%EC%B8%B5%EC%97%90%EC%84%9C1%EC%B8%B5%EB%B3%B4%EC%B6%A9.png\">"
   ]
  },
  {
   "cell_type": "markdown",
   "metadata": {},
   "source": [
    "가중치를 곱한 신호 두 개와 편향을 합해서 다음과 같이 계산합니다.\n",
    "\n",
    "<img src=\"https://media.vlpt.us/post-images/dscwinterstudy/b18ace60-39fb-11ea-b6b9-5148bcc9f2c4/a1.png\">\n",
    "\n",
    "여기에서 행렬의 곱을 이용하면 1층의 '가중치 부분'을 다음 식처럼 간소화할 수 있습니다.\n",
    "\n",
    "<img src=\"https://media.vlpt.us/post-images/dscwinterstudy/70bc13d0-39fb-11ea-b6b9-5148bcc9f2c4/1%EC%B8%B5%EA%B0%80%EC%A4%91%EC%B9%98%ED%96%89%EB%A0%AC%EC%8B%9D.png\">\n",
    "<img src=\"https://media.vlpt.us/post-images/dscwinterstudy/7bede9c0-39fd-11ea-9694-9dbcffa449db/%EA%B0%80%EC%A4%91%EC%B9%98%ED%96%89%EB%A0%AC.PNG\">"
   ]
  },
  {
   "cell_type": "code",
   "execution_count": 27,
   "metadata": {
    "ExecuteTime": {
     "end_time": "2021-01-20T07:37:10.122547Z",
     "start_time": "2021-01-20T07:37:10.112575Z"
    }
   },
   "outputs": [],
   "source": [
    "#입력층에서 1층으로의 신호 전달\n",
    "X = np.array([1.0, 0.5]) #1*2\n",
    "W1 = np.array([[0.1, 0.3, 0.5], [0.2, 0.4, 0.6]]) #2*3\n",
    "B1 = np.array([0.1, 0.2, 0.3]) #1*3\n",
    "\n",
    "A1 = np.dot(X, W1) + B1 #1*3\n",
    "#print(A1)\n",
    "\n",
    "#활성화 함수로 시그모이드 함수를 사용하기로 했을 때\n",
    "Z1 = sigmoid(A1) #1*3\n",
    "#print(Z1)"
   ]
  },
  {
   "cell_type": "code",
   "execution_count": 28,
   "metadata": {
    "ExecuteTime": {
     "end_time": "2021-01-20T07:37:10.135512Z",
     "start_time": "2021-01-20T07:37:10.125539Z"
    }
   },
   "outputs": [],
   "source": [
    "#1층에서 2층으로의 신호 전달\n",
    "W2 = np.array([[0.1, 0.4], [0.2, 0.5], [0.3, 0.6]]) #3*2\n",
    "B2 = np.array([0.1, 0.2]) #1*2\n",
    "\n",
    "A2 = np.dot(Z1, W2) + B2 #1*2\n",
    "Z2 = sigmoid(A2) #1*2"
   ]
  },
  {
   "cell_type": "code",
   "execution_count": 29,
   "metadata": {
    "ExecuteTime": {
     "end_time": "2021-01-20T07:37:10.148479Z",
     "start_time": "2021-01-20T07:37:10.138505Z"
    }
   },
   "outputs": [],
   "source": [
    "#2층에서 출력층으로의 신호 전달\n",
    "#출력층의 활성화 함수를 identity_function으로 정의\n",
    "def identity_function(x):\n",
    "    return x\n",
    "\n",
    "W3 = np.array([[0.1, 0.3], [0.2, 0.4]]) #2*2\n",
    "B3 = np.array([0.1, 0.2]) #1*2\n",
    "\n",
    "A3 = np.dot(Z2, W3) + B3 #1*2\n",
    "Y = identity_function(A3)"
   ]
  },
  {
   "cell_type": "markdown",
   "metadata": {},
   "source": [
    "### 구현 정리"
   ]
  },
  {
   "cell_type": "code",
   "execution_count": 30,
   "metadata": {
    "ExecuteTime": {
     "end_time": "2021-01-20T07:37:10.170420Z",
     "start_time": "2021-01-20T07:37:10.152467Z"
    }
   },
   "outputs": [
    {
     "name": "stdout",
     "output_type": "stream",
     "text": [
      "[0.31682708 0.69627909]\n"
     ]
    }
   ],
   "source": [
    "def init_network():\n",
    "    network = {}\n",
    "    network['W1'] = np.array([[0.1, 0.3, 0.5], [0.2, 0.4, 0.6]]) #2*3\n",
    "    network['b1'] = np.array([0.1, 0.2, 0.3]) #1*3\n",
    "    network['W2'] = np.array([[0.1, 0.4], [0.2, 0.5], [0.3, 0.6]]) #3*2\n",
    "    network['b2'] = np.array([0.1, 0.2]) #1*2\n",
    "    network['W3'] = np.array([[0.1, 0.3], [0.2, 0.4]]) #2*2\n",
    "    network['b3'] = np.array([0.1, 0.2]) #1*2\n",
    "    \n",
    "    return network\n",
    "\n",
    "#신호가 순방향(입력에서 출력 방향)으로 전달됨(순전파)임을 알리기 위함이다.\n",
    "def forward(network, x):\n",
    "    W1, W2, W3 = network['W1'], network['W2'], network['W3']\n",
    "    b1, b2, b3 = network['b1'], network['b2'], network['b3']\n",
    "\n",
    "    a1 = np.dot(x, W1) + b1\n",
    "    z1 = sigmoid(a1)\n",
    "    a2 = np.dot(z1, W2) + b2\n",
    "    z2 = sigmoid(a2)\n",
    "    a3 = np.dot(z2, W3) + b3\n",
    "    y = identity_function(a3)\n",
    "\n",
    "    return y\n",
    "\n",
    "network = init_network()\n",
    "x = np.array([1.0, 0.5]) #1*2\n",
    "y = forward(network, x)\n",
    "print(y)"
   ]
  },
  {
   "cell_type": "markdown",
   "metadata": {},
   "source": [
    "## 출력층 설계하기"
   ]
  },
  {
   "cell_type": "markdown",
   "metadata": {},
   "source": [
    "신경망은 분류와 회귀 모두에 이용할 수 있습니다. 다만 둘 중 어떤 문제냐에 따라 출력층에서 사용하는 활성화 함수가 달라집니다. 일반적으로 **회귀에는 항등 함수**를, **분류에는 소프트맥스 함수**를 사용합니다."
   ]
  },
  {
   "cell_type": "markdown",
   "metadata": {},
   "source": [
    "### 항등 함수와 소프트맥스 함수 구현하기"
   ]
  },
  {
   "cell_type": "markdown",
   "metadata": {},
   "source": [
    "**항등 함수(identify function)**는 입력을 그대로 출력합니다. \n",
    "<img src=\"https://media.vlpt.us/post-images/dscwinterstudy/98bd1470-3a04-11ea-a976-bbc34e4880b0/%ED%95%AD%EB%93%B1%ED%95%A8%EC%88%98.png\">\n"
   ]
  },
  {
   "cell_type": "markdown",
   "metadata": {},
   "source": [
    "**소프트맥스 함수(softmax function)**의 식은 다음과 같습니다.\n",
    "<img src=\"https://media.vlpt.us/post-images/dscwinterstudy/a70d9ad0-382a-11ea-83b1-3b44e26c4216/%EC%86%8C%ED%94%84%ED%8A%B8%EB%A7%A5%EC%8A%A4.PNG\">"
   ]
  },
  {
   "cell_type": "code",
   "execution_count": 31,
   "metadata": {
    "ExecuteTime": {
     "end_time": "2021-01-20T07:37:10.182387Z",
     "start_time": "2021-01-20T07:37:10.173414Z"
    }
   },
   "outputs": [],
   "source": [
    "def softmax(a):\n",
    "    exp_a = np.exp(a)\n",
    "    sum_exp_a = np.sum(exp_a)\n",
    "    y = exp_a / sum_exp_a\n",
    "    \n",
    "    return y"
   ]
  },
  {
   "cell_type": "markdown",
   "metadata": {},
   "source": [
    "### 소프트맥스 함수 구현 시 주의점"
   ]
  },
  {
   "cell_type": "markdown",
   "metadata": {},
   "source": [
    "위와 같이 구현하면 오버플로 문제가 발생합니다. 소프트맥스 함수는 지수 함수를 사용하는데, 지수 합수란 것이 쉽게 아주 큰 값을 내뱉습니다. 이런 큰 값끼리 나눗셈을 하면 결과 수치가 불안정해집니다. 이를 바탕으로 다시 구현하면 다음과 같습니다."
   ]
  },
  {
   "cell_type": "code",
   "execution_count": 32,
   "metadata": {
    "ExecuteTime": {
     "end_time": "2021-01-20T07:37:10.192360Z",
     "start_time": "2021-01-20T07:37:10.185379Z"
    }
   },
   "outputs": [],
   "source": [
    "def softmax(a):\n",
    "    c = np.max(a)\n",
    "    exp_a = np.exp(a - c) # 오버플로 대책\n",
    "    sum_exp_a = np.sum(exp_a)\n",
    "    y = exp_a / sum_exp_a\n",
    "    \n",
    "    return y"
   ]
  },
  {
   "cell_type": "markdown",
   "metadata": {},
   "source": [
    "### 소프트맥스 함수의 특징"
   ]
  },
  {
   "cell_type": "markdown",
   "metadata": {},
   "source": [
    "소프트맥스 함수의 출력은 0에서 1.0 사이의 실수입니다. 또, 소프트맥스 함수 출력의 총합은 1입니다. 총합이 1이 된다는 성질 덕분에 소프트맥스 함수의 출력을 '확률'로 해석할 수 있습니다.  \n",
    "여기서 주의점으로, 소프트맥스 함수를 적용해도 각 원소의 대소 관계는 변하지 않습니다. 지수함수가 단조 증가 함수이기 때문입니다.  \n",
    "\n",
    "신경망을 이용한 분류에서는 일반적으로 가장 큰 출력을 내는 뉴런에 해당하는 클래스로만 인식합니다. 그리고 소프트맥스 함수를 적용해도 출력이 가장 큰 뉴런의 위치는 달라지지 않습니다. 결과적으로 신경망으로 분류할 때는 출력층의 소프트 맥스 함수를 생략해도 됩니다. 현업(추론 단계)에서도 지수 함수 계산에 드는 자원 낭비를 줄이고자 출력층의 소프트맥스 함수는 생략하는 것이 일반적입니다."
   ]
  },
  {
   "cell_type": "markdown",
   "metadata": {},
   "source": [
    "### 출력층의 뉴런 수 정하기 "
   ]
  },
  {
   "cell_type": "markdown",
   "metadata": {},
   "source": [
    "출력층의 뉴런 수는 풀려는 문제에 맞게 적절히 정해야 합니다. 분류에서는 분류하고 싶은 클래스 수로 설정하는 것이 일반적입니다."
   ]
  },
  {
   "cell_type": "markdown",
   "metadata": {},
   "source": [
    "## 손글씨 숫자 인식"
   ]
  },
  {
   "cell_type": "markdown",
   "metadata": {},
   "source": [
    "손글씨 숫자를 분류하는 예제를 해보겠습니다. 이미 학습된 매개변수를 사용하여 학습 과정은 생략하고, 추론 과정만 구현합니다. 이 추론 과정을 신경망의 **순전파(forward propagation)**이라고 합니다."
   ]
  },
  {
   "cell_type": "markdown",
   "metadata": {},
   "source": [
    "### MNIST 데이터셋"
   ]
  },
  {
   "cell_type": "markdown",
   "metadata": {},
   "source": [
    "MNIST 데이터셋은 손글씨 숫자 이미지 집합입니다. 0부터 9까지의 숫자 이미지로 구성됩니다. 훈련 이미지가 60,000장, 시험 이미지가 10,000장 준비되어 있습니다.  \n",
    "28 x 28 크기의 회색조 이미지(1채널)이며, 각 픽셀은 0에서 255까지의 값을 취합니다. 각 이미지에는 또한 그 이미지가 실제 의미하는 숫자가 레이블로 붙어 있습니다."
   ]
  },
  {
   "cell_type": "code",
   "execution_count": 33,
   "metadata": {
    "ExecuteTime": {
     "end_time": "2021-01-20T07:37:10.205326Z",
     "start_time": "2021-01-20T07:37:10.195353Z"
    }
   },
   "outputs": [],
   "source": [
    "import sys, os\n",
    "sys.path.append(os.pardir)  # 부모 디렉터리의 파일을 가져올 수 있도록 설정\n",
    "import numpy as np\n",
    "import pickle\n",
    "from mnist import load_mnist #mnist.py만을 다운받았다면\n",
    "from PIL import Image"
   ]
  },
  {
   "cell_type": "code",
   "execution_count": 37,
   "metadata": {
    "ExecuteTime": {
     "end_time": "2021-01-20T07:38:06.343284Z",
     "start_time": "2021-01-20T07:37:27.065157Z"
    }
   },
   "outputs": [
    {
     "name": "stdout",
     "output_type": "stream",
     "text": [
      "5\n",
      "(784,)\n",
      "(28, 28)\n"
     ]
    }
   ],
   "source": [
    "def img_show(img):\n",
    "    pil_img = Image.fromarray(np.uint8(img))\n",
    "    #Image.fromarray: 넘파이로 저장된 이미지 데이터를 PIL용 데이터 객체로 변환해야\n",
    "    pil_img.show()\n",
    "\n",
    "(x_train, t_train), (x_test, t_test) = load_mnist(flatten=True, normalize=False)\n",
    "\n",
    "img = x_train[0]\n",
    "label = t_train[0]\n",
    "print(label)\n",
    "\n",
    "print(img.shape)\n",
    "img = img.reshape(28, 28)\n",
    "#flatten=True는 1차원 넘파이 배열로 저장되어 있다\n",
    "#이미지를 표시할 때 원래 형상인 28*28크기로 다시 변형해야\n",
    "print(img.shape)\n",
    "img_show(img)\n",
    "\n",
    "(x_train, t_train), (x_test, t_test) = load_mnist(flatten=True, normalize=False)"
   ]
  },
  {
   "cell_type": "markdown",
   "metadata": {},
   "source": [
    "### 신경망의 추론 처리"
   ]
  },
  {
   "cell_type": "markdown",
   "metadata": {},
   "source": [
    "### 배치 처리"
   ]
  }
 ],
 "metadata": {
  "kernelspec": {
   "display_name": "Python 3",
   "language": "python",
   "name": "python3"
  },
  "language_info": {
   "codemirror_mode": {
    "name": "ipython",
    "version": 3
   },
   "file_extension": ".py",
   "mimetype": "text/x-python",
   "name": "python",
   "nbconvert_exporter": "python",
   "pygments_lexer": "ipython3",
   "version": "3.7.6"
  },
  "toc": {
   "base_numbering": 1,
   "nav_menu": {},
   "number_sections": true,
   "sideBar": true,
   "skip_h1_title": true,
   "title_cell": "Table of Contents",
   "title_sidebar": "Contents",
   "toc_cell": true,
   "toc_position": {
    "height": "calc(100% - 180px)",
    "left": "10px",
    "top": "150px",
    "width": "194.533px"
   },
   "toc_section_display": true,
   "toc_window_display": true
  },
  "varInspector": {
   "cols": {
    "lenName": 16,
    "lenType": 16,
    "lenVar": 40
   },
   "kernels_config": {
    "python": {
     "delete_cmd_postfix": "",
     "delete_cmd_prefix": "del ",
     "library": "var_list.py",
     "varRefreshCmd": "print(var_dic_list())"
    },
    "r": {
     "delete_cmd_postfix": ") ",
     "delete_cmd_prefix": "rm(",
     "library": "var_list.r",
     "varRefreshCmd": "cat(var_dic_list()) "
    }
   },
   "types_to_exclude": [
    "module",
    "function",
    "builtin_function_or_method",
    "instance",
    "_Feature"
   ],
   "window_display": false
  }
 },
 "nbformat": 4,
 "nbformat_minor": 4
}
