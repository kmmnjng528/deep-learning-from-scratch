{
 "cells": [
  {
   "cell_type": "markdown",
   "metadata": {},
   "source": [
    "# <center>『 밑바닥부터 시작하는 딥러닝 』</center>"
   ]
  },
  {
   "cell_type": "markdown",
   "metadata": {},
   "source": [
    "<img src=\"http://image.kyobobook.co.kr/images/book/large/636/l9788968484636.jpg\">"
   ]
  },
  {
   "cell_type": "markdown",
   "metadata": {},
   "source": [
    "---"
   ]
  },
  {
   "cell_type": "markdown",
   "metadata": {},
   "source": [
    "# 1장. 헬로 파이썬"
   ]
  },
  {
   "cell_type": "markdown",
   "metadata": {},
   "source": [
    "---"
   ]
  },
  {
   "cell_type": "markdown",
   "metadata": {
    "toc": true
   },
   "source": [
    "<h1>Table of Contents<span class=\"tocSkip\"></span></h1>\n",
    "<div class=\"toc\"><ul class=\"toc-item\"><li><span><a href=\"#파이썬-이란?\" data-toc-modified-id=\"파이썬-이란?-1\"><span class=\"toc-item-num\">1&nbsp;&nbsp;</span>파이썬 이란?</a></span></li><li><span><a href=\"#파이썬-설치하기\" data-toc-modified-id=\"파이썬-설치하기-2\"><span class=\"toc-item-num\">2&nbsp;&nbsp;</span>파이썬 설치하기</a></span></li><li><span><a href=\"#파이썬-인터프리터\" data-toc-modified-id=\"파이썬-인터프리터-3\"><span class=\"toc-item-num\">3&nbsp;&nbsp;</span>파이썬 인터프리터</a></span></li><li><span><a href=\"#파이썬-스크립트-파일\" data-toc-modified-id=\"파이썬-스크립트-파일-4\"><span class=\"toc-item-num\">4&nbsp;&nbsp;</span>파이썬 스크립트 파일</a></span><ul class=\"toc-item\"><li><span><a href=\"#py-파일-실행하기\" data-toc-modified-id=\"py-파일-실행하기-4.1\"><span class=\"toc-item-num\">4.1&nbsp;&nbsp;</span>py 파일 실행하기</a></span></li><li><span><a href=\"#클래스\" data-toc-modified-id=\"클래스-4.2\"><span class=\"toc-item-num\">4.2&nbsp;&nbsp;</span>클래스</a></span></li></ul></li><li><span><a href=\"#넘파이\" data-toc-modified-id=\"넘파이-5\"><span class=\"toc-item-num\">5&nbsp;&nbsp;</span>넘파이</a></span></li><li><span><a href=\"#matplotlib\" data-toc-modified-id=\"matplotlib-6\"><span class=\"toc-item-num\">6&nbsp;&nbsp;</span>matplotlib</a></span></li></ul></div>"
   ]
  },
  {
   "cell_type": "markdown",
   "metadata": {},
   "source": [
    "--- "
   ]
  },
  {
   "cell_type": "markdown",
   "metadata": {},
   "source": [
    "## 파이썬 이란?"
   ]
  },
  {
   "cell_type": "code",
   "execution_count": 11,
   "metadata": {
    "ExecuteTime": {
     "end_time": "2021-01-19T06:57:14.575560Z",
     "start_time": "2021-01-19T06:57:14.571570Z"
    }
   },
   "outputs": [],
   "source": [
    "# pass"
   ]
  },
  {
   "cell_type": "markdown",
   "metadata": {},
   "source": [
    "## 파이썬 설치하기"
   ]
  },
  {
   "cell_type": "code",
   "execution_count": 12,
   "metadata": {
    "ExecuteTime": {
     "end_time": "2021-01-19T06:57:14.991446Z",
     "start_time": "2021-01-19T06:57:14.987458Z"
    }
   },
   "outputs": [],
   "source": [
    "# pass"
   ]
  },
  {
   "cell_type": "markdown",
   "metadata": {},
   "source": [
    "## 파이썬 인터프리터"
   ]
  },
  {
   "cell_type": "code",
   "execution_count": 13,
   "metadata": {
    "ExecuteTime": {
     "end_time": "2021-01-19T06:57:15.395368Z",
     "start_time": "2021-01-19T06:57:15.391378Z"
    }
   },
   "outputs": [],
   "source": [
    "# passa"
   ]
  },
  {
   "cell_type": "markdown",
   "metadata": {},
   "source": [
    "## 파이썬 스크립트 파일"
   ]
  },
  {
   "cell_type": "markdown",
   "metadata": {},
   "source": [
    "### py 파일 실행하기"
   ]
  },
  {
   "cell_type": "code",
   "execution_count": 4,
   "metadata": {
    "ExecuteTime": {
     "end_time": "2021-01-19T05:47:13.096094Z",
     "start_time": "2021-01-19T05:47:12.960419Z"
    }
   },
   "outputs": [
    {
     "name": "stdout",
     "output_type": "stream",
     "text": [
      "I'm hungry!\n"
     ]
    }
   ],
   "source": [
    "! python hungry.py"
   ]
  },
  {
   "cell_type": "markdown",
   "metadata": {},
   "source": [
    "### 클래스"
   ]
  },
  {
   "cell_type": "markdown",
   "metadata": {},
   "source": [
    "클래스를 정의하면 독자적인 자료형을 만들 수 있습니다."
   ]
  },
  {
   "cell_type": "code",
   "execution_count": 5,
   "metadata": {
    "ExecuteTime": {
     "end_time": "2021-01-19T05:47:13.112015Z",
     "start_time": "2021-01-19T05:47:13.098053Z"
    }
   },
   "outputs": [
    {
     "data": {
      "text/plain": [
       "'\\n\\nclass 클래스 이름:\\n    def __init__(self, 인수, ...): # 생성자\\n        ...\\n    def 메서드 이름 1(self, 인수, ...): # 메서드 1\\n        ...\\n    def 메서드 이름 2(self, 인수, ...): # 메서드 2\\n        ...\\n        \\n'"
      ]
     },
     "execution_count": 5,
     "metadata": {},
     "output_type": "execute_result"
    }
   ],
   "source": [
    "\"\"\"\n",
    "\n",
    "class 클래스 이름:\n",
    "    def __init__(self, 인수, ...): # 생성자\n",
    "        ...\n",
    "    def 메서드 이름 1(self, 인수, ...): # 메서드 1\n",
    "        ...\n",
    "    def 메서드 이름 2(self, 인수, ...): # 메서드 2\n",
    "        ...\n",
    "        \n",
    "\"\"\""
   ]
  },
  {
   "cell_type": "code",
   "execution_count": 6,
   "metadata": {
    "ExecuteTime": {
     "end_time": "2021-01-19T05:47:13.123984Z",
     "start_time": "2021-01-19T05:47:13.115006Z"
    }
   },
   "outputs": [
    {
     "name": "stdout",
     "output_type": "stream",
     "text": [
      "Initialized!\n",
      "Hello David!\n",
      "Good-bye David!\n"
     ]
    }
   ],
   "source": [
    "class Man:\n",
    "    def __init__(self, name):\n",
    "        self.name = name\n",
    "        print(\"Initialized!\")\n",
    "\n",
    "    def hello(self):\n",
    "        print(\"Hello \" + self.name + \"!\")\n",
    "\n",
    "    def goodbye(self):\n",
    "        print(\"Good-bye \" + self.name + \"!\")\n",
    "\n",
    "m = Man(\"David\")\n",
    "m.hello()\n",
    "m.goodbye()"
   ]
  },
  {
   "cell_type": "code",
   "execution_count": 7,
   "metadata": {
    "ExecuteTime": {
     "end_time": "2021-01-19T05:47:13.266611Z",
     "start_time": "2021-01-19T05:47:13.129967Z"
    }
   },
   "outputs": [
    {
     "name": "stdout",
     "output_type": "stream",
     "text": [
      "Initialized!\n",
      "Hello David!\n",
      "Good-bye David!\n"
     ]
    }
   ],
   "source": [
    "! python man.py"
   ]
  },
  {
   "cell_type": "markdown",
   "metadata": {},
   "source": [
    "## 넘파이"
   ]
  },
  {
   "cell_type": "code",
   "execution_count": 8,
   "metadata": {
    "ExecuteTime": {
     "end_time": "2021-01-19T05:47:13.273581Z",
     "start_time": "2021-01-19T05:47:13.268594Z"
    }
   },
   "outputs": [],
   "source": [
    "# passa"
   ]
  },
  {
   "cell_type": "markdown",
   "metadata": {},
   "source": [
    "## matplotlib"
   ]
  },
  {
   "cell_type": "code",
   "execution_count": 9,
   "metadata": {
    "ExecuteTime": {
     "end_time": "2021-01-19T05:47:13.285551Z",
     "start_time": "2021-01-19T05:47:13.278569Z"
    }
   },
   "outputs": [],
   "source": [
    "# passa"
   ]
  }
 ],
 "metadata": {
  "kernelspec": {
   "display_name": "Python 3",
   "language": "python",
   "name": "python3"
  },
  "language_info": {
   "codemirror_mode": {
    "name": "ipython",
    "version": 3
   },
   "file_extension": ".py",
   "mimetype": "text/x-python",
   "name": "python",
   "nbconvert_exporter": "python",
   "pygments_lexer": "ipython3",
   "version": "3.7.6"
  },
  "toc": {
   "base_numbering": 1,
   "nav_menu": {},
   "number_sections": true,
   "sideBar": true,
   "skip_h1_title": true,
   "title_cell": "Table of Contents",
   "title_sidebar": "Contents",
   "toc_cell": true,
   "toc_position": {},
   "toc_section_display": true,
   "toc_window_display": true
  },
  "varInspector": {
   "cols": {
    "lenName": 16,
    "lenType": 16,
    "lenVar": 40
   },
   "kernels_config": {
    "python": {
     "delete_cmd_postfix": "",
     "delete_cmd_prefix": "del ",
     "library": "var_list.py",
     "varRefreshCmd": "print(var_dic_list())"
    },
    "r": {
     "delete_cmd_postfix": ") ",
     "delete_cmd_prefix": "rm(",
     "library": "var_list.r",
     "varRefreshCmd": "cat(var_dic_list()) "
    }
   },
   "types_to_exclude": [
    "module",
    "function",
    "builtin_function_or_method",
    "instance",
    "_Feature"
   ],
   "window_display": false
  }
 },
 "nbformat": 4,
 "nbformat_minor": 4
}
